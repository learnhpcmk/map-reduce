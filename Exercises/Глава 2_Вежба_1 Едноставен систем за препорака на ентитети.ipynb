{
  "nbformat": 4,
  "nbformat_minor": 0,
  "metadata": {
    "colab": {
      "name": "Вежба 2.ipynb",
      "provenance": []
    },
    "kernelspec": {
      "name": "python3",
      "display_name": "Python 3"
    },
    "language_info": {
      "name": "python"
    }
  },
  "cells": [
    {
      "cell_type": "markdown",
      "source": [
        "### Едноставен систем за препорака на ентитети\n",
        "\n",
        "Со користење на Spark можеме да направиме едноставен систем за препорака на филмови за одреден корисник базирано врз неговите веќе поставени рејтинзи за филмови. За ова ќе ја искористиме библиотеката MLLib која ја нуди Спарк.\n",
        "\n",
        "Можеме многу едноставно да го направиме ова со следнава Python скрипта.\n",
        "\n",
        "1. Ќе креираме Спарк сесија\n",
        "2. Ќе ги прочитаме податоците во вид на dictionary\n",
        "3. Ќе ги претвориме во RDD со (userID, movieID, rating)\n",
        "4. Ќе креираме DataFrame и ќе го ставиме во cache\n",
        "5. Ќе креираме ALS колаборативен модел за филтрирање од целосниот податочен сет\n",
        "- ова е ML концепт кој ќе служи за тренирање на нашиот алгоритам \n",
        "\n",
        "Со стартување дел по дел на следниве кодови можеме и да видиме како всушност работи сето ова:\n"
      ],
      "metadata": {
        "id": "d-KQ2Yinn5Y-"
      }
    },
    {
      "cell_type": "markdown",
      "source": [
        "Го инсталираме потребните библиотеки"
      ],
      "metadata": {
        "id": "ORySGVB6UauG"
      }
    },
    {
      "cell_type": "code",
      "source": [
        "! pip install pyspark py4j"
      ],
      "metadata": {
        "colab": {
          "base_uri": "https://localhost:8080/"
        },
        "id": "qUI90W5fqHUe",
        "outputId": "393aa1c4-848a-4c90-89ce-b31e70c77fa2"
      },
      "execution_count": 5,
      "outputs": [
        {
          "output_type": "stream",
          "name": "stdout",
          "text": [
            "Requirement already satisfied: pyspark in /usr/local/lib/python3.7/dist-packages (3.2.1)\n",
            "Requirement already satisfied: py4j in /usr/local/lib/python3.7/dist-packages (0.10.9.3)\n"
          ]
        }
      ]
    },
    {
      "cell_type": "markdown",
      "source": [
        "Ги наведуваме сите библиотеки кои ќе ги користиме и дополнително дефинираме функции за читање и парсирање на имињата на филмовите"
      ],
      "metadata": {
        "id": "WRoPwee3UaHY"
      }
    },
    {
      "cell_type": "code",
      "source": [
        "from pyspark.sql import SparkSession\n",
        "from pyspark.ml.recommendation import ALS\n",
        "from pyspark.sql import Row\n",
        "from pyspark.sql.functions import lit\n",
        "\n",
        "def loadMovieNames():\n",
        "  movieNames = {}\n",
        "  with open(\"u.item\",  encoding = \"ISO-8859-1\") as f:\n",
        "    for line in f:\n",
        "      fields = line.split('|')\n",
        "      movieNames[int(fields[0])] = fields[1]\n",
        "  return movieNames\n",
        "\n",
        "def parseInput(line):\n",
        "  fields = line.value.split()\n",
        "  return Row(userID = int(fields[0]), movieID=int(fields[1]), rating=float(fields[2]))"
      ],
      "metadata": {
        "id": "x8OFwVxbqiMx"
      },
      "execution_count": 3,
      "outputs": []
    },
    {
      "cell_type": "markdown",
      "source": [
        "Креираме Spark сесија која ја сместуваме во променливата spark"
      ],
      "metadata": {
        "id": "UvDxEzgpUt3W"
      }
    },
    {
      "cell_type": "code",
      "source": [
        "spark = SparkSession.builder.appName(\"MovieRecs\").getOrCreate()"
      ],
      "metadata": {
        "id": "sJL2koW0r7lX"
      },
      "execution_count": 6,
      "outputs": []
    },
    {
      "cell_type": "markdown",
      "source": [
        "Ќе ги претвориме во RDD со (userID, movieID, rating)"
      ],
      "metadata": {
        "id": "sJT6u8TmdUvD"
      }
    },
    {
      "cell_type": "code",
      "source": [
        "movieNames = loadMovieNames()\n",
        "lines = spark.read.text(\"u.data\").rdd"
      ],
      "metadata": {
        "id": "1Z1N9wCvsDsQ"
      },
      "execution_count": 7,
      "outputs": []
    },
    {
      "cell_type": "markdown",
      "source": [
        "Ќе креираме DataFrame и ќе го ставиме во cache"
      ],
      "metadata": {
        "id": "UD_e0xwrdZ8C"
      }
    },
    {
      "cell_type": "code",
      "source": [
        "ratingsRDD = lines.map(parseInput)\n",
        "ratings = spark.createDataFrame(ratingsRDD).cache()\n",
        "als = ALS(maxIter=5, regParam=0.01, userCol=\"userID\", itemCol=\"movieID\", ratingCol=\"rating\")\n",
        "model = als.fit(ratings)"
      ],
      "metadata": {
        "id": "mkKTBGeDs0iJ"
      },
      "execution_count": 8,
      "outputs": []
    },
    {
      "cell_type": "markdown",
      "source": [
        "Ќе креираме ALS колаборативен модел за филтрирање од целосниот податочен сет. Ги прикажуваме топ 20-те филмови препорачани за корисник со ID=0"
      ],
      "metadata": {
        "id": "ewmDy_c2dd_g"
      }
    },
    {
      "cell_type": "code",
      "source": [
        "print(\"\\nRatings for user ID 0:\")\n",
        "userRatings = ratings.filter(\"userID = 0\")\n",
        "for rating in userRatings.collect():\n",
        "  print(movieNames[rating['movieId']], rating['rating'])\n",
        "\n",
        "print(\"\\nTop 20 recommendations:\")\n",
        "ratingCounts = ratings.groupBy(\"movieID\").count().filter(\"count > 100\")\n",
        "popularMovies = ratingCounts.select(\"movieID\").withColumn('userID', lit(0))\n",
        "recommendations = model.transform(popularMovies)\n",
        "topRecommendations = recommendations.sort(recommendations.prediction.desc()).take(20)\n",
        "\n",
        "for recommendation in topRecommendations:\n",
        "  print(movieNames[recommendation['movieID']], recommendation['prediction'])\n",
        "\n",
        "spark.stop()"
      ],
      "metadata": {
        "colab": {
          "base_uri": "https://localhost:8080/"
        },
        "id": "3i9di2YItTBr",
        "outputId": "d98a6af7-ac10-437d-fa16-1492182ab78e"
      },
      "execution_count": 9,
      "outputs": [
        {
          "output_type": "stream",
          "name": "stdout",
          "text": [
            "\n",
            "Ratings for user ID 0:\n",
            "\n",
            "Top 20 recommendations:\n",
            "Dr. Strangelove or: How I Learned to Stop Worrying and Love the Bomb (1963) nan\n",
            "Batman Forever (1995) nan\n",
            "What's Eating Gilbert Grape (1993) nan\n",
            "Amadeus (1984) nan\n",
            "Cinderella (1950) nan\n",
            "Star Trek: First Contact (1996) nan\n",
            "Donnie Brasco (1997) nan\n",
            "Gattaca (1997) nan\n",
            "Clueless (1995) nan\n",
            "Singin' in the Rain (1952) nan\n",
            "Jungle2Jungle (1997) nan\n",
            "Outbreak (1995) nan\n",
            "Down Periscope (1996) nan\n",
            "True Lies (1994) nan\n",
            "Last of the Mohicans, The (1992) nan\n",
            "Jerry Maguire (1996) nan\n",
            "Wag the Dog (1997) nan\n",
            "Beauty and the Beast (1991) nan\n",
            "Nikita (La Femme Nikita) (1990) nan\n",
            "Braveheart (1995) nan\n"
          ]
        }
      ]
    }
  ]
}